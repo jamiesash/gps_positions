{
 "cells": [
  {
   "cell_type": "code",
   "execution_count": 1,
   "metadata": {},
   "outputs": [],
   "source": [
    "#!/usr/bin/env python\n",
    "\n",
    "# --------------------------------------------------------------------------------\n",
    "# Libraries. \n",
    "\n",
    "import argparse\n",
    "import os\n",
    "import toml\n",
    "import numpy as np\n",
    "import sys\n",
    "import matplotlib.pyplot as plt\n",
    "from pathlib import Path\n",
    "from pycurrents.file.binfile_n import BinfileSet\n",
    "from pycurrents.data import navcalc\n",
    "from pycurrents.num import interp1 \n",
    "from pycurrents.adcp.uhdas_cfg_api import get_cfg, find_cfg_files\n",
    "\n",
    "path_cruise = \"/home/jamie/cruise_data/SE_24_02/\"\n",
    "\n",
    "# --------------------------------------------------------------------------------\n",
    "# functions and subroutines\n",
    "\n",
    "# give a list of rbin files aoutput catinated array.\n",
    "def arrayrbins(files):\n",
    "    mat = list()\n",
    "    for i in files:\n",
    "        tmp = BinfileSet(str(i))\n",
    "        mat.append(tmp.array)\n",
    "    mat = np.vstack(mat)\n",
    "    return(mat) \n",
    "\n",
    "# generates list of rbin files and calls arrayrbins.\n",
    "def readrbins(pth, sensor, tag):\n",
    "    tag = \"*\" + tag + \"*.rbin\"\n",
    "    files = sorted(Path(pth+sensor+\"/\").glob(tag))\n",
    "    mat = arrayrbins(files)\n",
    "    #cols = BinfileSet(str(files[0])).columns\n",
    "    mat = np.array(mat) #, dtype=cols)\n",
    "    return(mat)\n",
    "\n",
    "def carvect(primary, sensor, hdg):\n",
    "    # interpolate onto the primary pos sensor\n",
    "    lon = interp1(sensor[:,0], sensor[:,2], primary[:,0])\n",
    "    lat = interp1(sensor[:,0], sensor[:,3], primary[:,0])\n",
    "    # find the distance in u and v from the primary gps. \n",
    "    dlon = lon - primary[:,2]\n",
    "    dlat = lat - primary[:,3]\n",
    "    dxdy = navcalc.diffxy_from_difflonlat(dlon , dlat, primary[:,3])\n",
    "    dxdy = np.array(dxdy)\n",
    "    # interpolate dxdy onto heading device resolution. \n",
    "    dx = interp1(primary[:,0], dxdy[0,:], hdg[:,0])\n",
    "    dy = interp1(primary[:,0], dxdy[1,:], hdg[:,0])\n",
    "    dxdy = np.array([dx, dy])\n",
    "    return(dxdy)\n",
    "\n",
    "# find the location on the ship\n",
    "def shiplocal(vects, hdg):\n",
    "    # Rotates the distance vector by the heading. \n",
    "    # Done via a change of basis. \n",
    "    location = []\n",
    "    for i in range(1, len(hdg)):\n",
    "        tht = hdg[i,1]*(np.pi/180) # to radians\n",
    "        A = np.array([[np.cos(tht), np.sin(tht)],\n",
    "                [np.sin(tht)*-1, np.cos(tht)]]).T\n",
    "        location.append(np.matmul(A, vects[:,i]))\n",
    "    location = np.vstack(location)\n",
    "    return(location)\n",
    "\n",
    "# input is matrix of dimensions [x,2] where x is any number.\n",
    "# columns are the dx dy.   \n",
    "def xymean(mat):\n",
    "    ux = np.nanmean(mat[:, 0])\n",
    "    uy = np.nanmean(mat[:, 1])\n",
    "    cent = np.array([ux, uy])\n",
    "    return(cent)\n",
    "\n",
    "# --------------------------------------------------------------------------------\n",
    "# loading data\n",
    "\n",
    "files = find_cfg_files(path_cruise + \"/raw/config/\")\n",
    "if files['sensor'] is None: \n",
    "    sys.exit(\"Error: No /raw/config directory found. Are you in a UHDAS cruise directory?\")\n",
    "proc_file = get_cfg(files['proc'])\n",
    "sens_file = get_cfg(files['sensor'])\n",
    "hdg_inst = proc_file[\"hdg_inst\"]\n",
    "pos_inst = proc_file[\"pos_inst\"]\n",
    "\n",
    "# remove the adcps, primary pos, and hdg instrument from the sensor list.\n",
    "gps = sens_file['sensor_keys']\n",
    "adcps = sens_file['adcp_keys']\n",
    "for i in adcps:\n",
    "    try:\n",
    "        gps.remove(i)\n",
    "    except ValueError:\n",
    "        pass\n",
    "gps.remove(hdg_inst)\n",
    "\n",
    "# catinate gps rbin arrays, and list directories that do not have .gps.rbin files. \n",
    "badies = list()\n",
    "sensors = list()\n",
    "for i in gps:\n",
    "    if any(File.endswith(\".gps.rbin\") for File in os.listdir(path_cruise + '/rbin/' + i)):\n",
    "        sensors.append(readrbins(pth = path_cruise + '/rbin/', sensor = i, tag = 'gps'))\n",
    "    else:\n",
    "        badies.append(i)\n",
    "        print(\"No gps files in the \" + i + \" rbins directory.\")\n",
    "\n",
    "# remove gps devises without gps.rbin files. \n",
    "for i in badies:\n",
    "    gps.remove(i)\n",
    "\n",
    "# reading in the gps coordinates from the rbin. \n",
    "prime = readrbins(pth = path_cruise + '/rbin/', sensor = pos_inst, tag = 'gps')\n",
    "head  = readrbins(pth = path_cruise + '/rbin/', sensor = hdg_inst, tag = 'hdg')\n",
    "\n",
    "# --------------------------------------------------------------------------------\n",
    "# calculations\n",
    "\n",
    "centers = list()\n",
    "for device in sensors:\n",
    "    tmp = carvect(primary = prime, sensor = device, hdg = head)\n",
    "    pos = shiplocal(vects = tmp, hdg = head)\n",
    "    centers.append(xymean(mat = pos))\n",
    "centers = np.array(centers)"
   ]
  },
  {
   "cell_type": "code",
   "execution_count": 2,
   "metadata": {},
   "outputs": [
    {
     "data": {
      "text/plain": [
       "array([[-1.73386815e-01, -1.70555807e+00],\n",
       "       [ 4.22236689e-01, -5.20811353e+01],\n",
       "       [ 0.00000000e+00,  0.00000000e+00],\n",
       "       [-9.15257076e-04,  7.12711966e-02],\n",
       "       [ 3.35850151e-02,  4.26932263e+00]])"
      ]
     },
     "execution_count": 2,
     "metadata": {},
     "output_type": "execute_result"
    }
   ],
   "source": [
    "centers"
   ]
  },
  {
   "cell_type": "code",
   "execution_count": 34,
   "metadata": {},
   "outputs": [
    {
     "name": "stdout",
     "output_type": "stream",
     "text": [
      "    x |      y |           gps name\n",
      "-----------------------------------\n",
      "   hdg |    hdg |               gyro\n",
      " -0.17 |  -1.71 |   gps_gp170_bridge\n",
      "  0.42 | -52.08 |    gps_gp170_winch\n",
      "  0.00 |   0.00 |          abxtwo_b2\n",
      " -0.00 |   0.07 |      abxtwo_b2_udp\n",
      "  0.03 |   4.27 |      abxtwo_b1_udp\n",
      "-13.00 | -14.00 |               os75\n",
      "-----------------------------------\n"
     ]
    }
   ],
   "source": [
    "# --------------------------------------------------------------------------------\n",
    "# print a table of the gps lacations.\n",
    "print(\"    x |      y |           gps name\")\n",
    "print(\"-----------------------------------\")\n",
    "print(f\"   hdg |    hdg | {hdg_inst:>18s}\") \n",
    "for ((x, y), name) in zip(centers, gps):\n",
    "    print(f\"{x:>6.2f} | {y:6.2f} | {name:>18s}\")\n",
    "for sonar in adcps:\n",
    "    x = proc_file['xducer_dx'][sonar] * -1\n",
    "    y = proc_file['xducer_dy'][sonar] * -1\n",
    "    print(f\"{x:>6.2f} | {y:6.2f} | {sonar:>18s}\")\n",
    "print(\"-----------------------------------\")\n"
   ]
  },
  {
   "cell_type": "code",
   "execution_count": 33,
   "metadata": {},
   "outputs": [
    {
     "name": "stdout",
     "output_type": "stream",
     "text": [
      "-----------------------------------\n",
      "GPS locations relative to the os75\n",
      "-----------------------------------\n",
      "    x |      y |           gps name\n",
      "-----------------------------------\n",
      "   hdg |    hdg |               gyro\n",
      " 12.83 |  12.29 |   gps_gp170_bridge\n",
      " 13.42 | -38.08 |    gps_gp170_winch\n",
      " 13.00 |  14.00 |          abxtwo_b2\n",
      " 13.00 |  14.07 |      abxtwo_b2_udp\n",
      " 13.03 |  18.27 |      abxtwo_b1_udp\n",
      "-----------------------------------\n"
     ]
    }
   ],
   "source": [
    "# --------------------------------------------------------------------------------\n",
    "# print a table of the gps lacations relative to each sonar.\n",
    "\n",
    "for sonar in adcps:\n",
    "    x = proc_file['xducer_dx'][sonar] * -1\n",
    "    y = proc_file['xducer_dy'][sonar] * -1\n",
    "    xy = np.array([x,y])\n",
    "    print(\"-----------------------------------\")\n",
    "    print(\"GPS locations relative to the \" + sonar)\n",
    "    print(\"-----------------------------------\")\n",
    "    print(\"    x |      y |           gps name\")\n",
    "    print(\"-----------------------------------\")\n",
    "    print(f\"   hdg |    hdg | {hdg_inst:>18s}\") \n",
    "    for ((x, y), name) in zip(centers - xy, gps):\n",
    "        print(f\"{x:>6.2f} | {y:6.2f} | {name:>18s}\")\n",
    "    print(\"-----------------------------------\")\n"
   ]
  },
  {
   "cell_type": "code",
   "execution_count": 164,
   "metadata": {},
   "outputs": [
    {
     "data": {
      "text/plain": [
       "[14]"
      ]
     },
     "execution_count": 164,
     "metadata": {},
     "output_type": "execute_result"
    }
   ],
   "source": [
    "proc_file['xducer_dx'] \n",
    "list(proc_file['xducer_dy'].values())"
   ]
  },
  {
   "cell_type": "code",
   "execution_count": 184,
   "metadata": {},
   "outputs": [
    {
     "ename": "ValueError",
     "evalue": "setting an array element with a sequence. The requested array has an inhomogeneous shape after 1 dimensions. The detected shape was (2,) + inhomogeneous part.",
     "output_type": "error",
     "traceback": [
      "\u001b[0;31m---------------------------------------------------------------------------\u001b[0m",
      "\u001b[0;31mValueError\u001b[0m                                Traceback (most recent call last)",
      "Cell \u001b[0;32mIn[184], line 1\u001b[0m\n\u001b[0;32m----> 1\u001b[0m \u001b[43mnp\u001b[49m\u001b[38;5;241;43m.\u001b[39;49m\u001b[43marray\u001b[49m\u001b[43m(\u001b[49m\u001b[43m[\u001b[49m\u001b[43mcenters\u001b[49m\u001b[43m[\u001b[49m\u001b[43m:\u001b[49m\u001b[43m,\u001b[49m\u001b[38;5;241;43m0\u001b[39;49m\u001b[43m]\u001b[49m\u001b[38;5;241;43m.\u001b[39;49m\u001b[43mtolist\u001b[49m\u001b[43m(\u001b[49m\u001b[43m)\u001b[49m\u001b[43m,\u001b[49m\u001b[43m \u001b[49m\u001b[38;5;28;43mlist\u001b[39;49m\u001b[43m(\u001b[49m\u001b[43mproc_file\u001b[49m\u001b[43m[\u001b[49m\u001b[38;5;124;43m'\u001b[39;49m\u001b[38;5;124;43mxducer_dx\u001b[39;49m\u001b[38;5;124;43m'\u001b[39;49m\u001b[43m]\u001b[49m\u001b[38;5;241;43m.\u001b[39;49m\u001b[43mvalues\u001b[49m\u001b[43m(\u001b[49m\u001b[43m)\u001b[49m\u001b[43m)\u001b[49m\u001b[43m]\u001b[49m\u001b[43m)\u001b[49m\n",
      "\u001b[0;31mValueError\u001b[0m: setting an array element with a sequence. The requested array has an inhomogeneous shape after 1 dimensions. The detected shape was (2,) + inhomogeneous part."
     ]
    }
   ],
   "source": [
    "np.array([centers[:,0].tolist(), list(proc_file['xducer_dx'].values())])"
   ]
  },
  {
   "cell_type": "code",
   "execution_count": 33,
   "metadata": {},
   "outputs": [
    {
     "data": {
      "text/plain": [
       "Text(0.5, 1.0, 'GPS distances from origin')"
      ]
     },
     "execution_count": 33,
     "metadata": {},
     "output_type": "execute_result"
    },
    {
     "data": {
      "image/png": "[encoded data removed]",
      "text/plain": [
       "<Figure size 700x800 with 1 Axes>"
      ]
     },
     "metadata": {},
     "output_type": "display_data"
    }
   ],
   "source": [
    "local = np.array(centers)\n",
    "\n",
    "fig = plt.figure(figsize=(7, 8))\n",
    "for k in range(0, len(sensors)):\n",
    "    position = pos[k]\n",
    "    plt.plot(position[0], position[1], \"k.\", markersize = 12, alpha = 0.01)\n",
    "plt.plot(0, 0, \"k.\", markersize = 12, alpha = 1)\n",
    "plt.plot(local[:,0], local[:,1], \"r.\", markersize = 6, alpha = 1)\n",
    "plt.xlabel(\"Horizontal distance [m]\", size = 12)\n",
    "plt.ylabel(\"Vertical distance [m]\", size = 12)\n",
    "# plt.xlim(-25, 25)\n",
    "#plt.ylim(-100, 15)\n",
    "plt.title(\"GPS distances from origin\", size = 12)\n",
    "# plt.gca().set_aspect(1)"
   ]
  },
  {
   "cell_type": "code",
   "execution_count": 187,
   "metadata": {},
   "outputs": [
    {
     "data": {
      "image/png": "[encoded data removed]",
      "text/plain": [
       "<Figure size 500x500 with 1 Axes>"
      ]
     },
     "metadata": {},
     "output_type": "display_data"
    }
   ],
   "source": [
    "xmax = np.nanmax(centers[:,0])\n",
    "ymax = np.nanmax(centers[:,1])\n",
    "xmin = np.nanmax(centers[:,0])\n",
    "ymin = np.nanmax(centers[:,1])\n",
    "\n",
    "# --------------------------------------------------------------------------------\n",
    "# plot the centerpoints.\n",
    "\n",
    "fig = plt.figure(figsize=(5, 5))\n",
    "plt.plot(centers[:,0], centers[:,1], \"kx\", markersize = 6, alpha = 1)\n",
    "plt.plot(0, 0, \"kx\", markersize = 6, alpha = 1)\n",
    "plt.annotate(pos_inst, (0+0.01, 0-0.5), size = 10)\n",
    "for i in range(0, len(gps)):\n",
    "    plt.annotate(gps[i], (centers[i,0]+0.01, centers[i, 1]-0.5), size = 10)\n",
    "for sonar in proc_file['xducer_dx']:\n",
    "    x = proc_file['xducer_dx'][sonar]\n",
    "    y = proc_file['xducer_dy'][sonar]\n",
    "    plt.plot(x, y, \"kx\", markersize = 12, alpha = 1)\n",
    "    plt.annotate(sonar, (x+0.01, y-0.5), size = 10)\n",
    "plt.xlabel(\"Horizontal distance [m]\", size = 12)\n",
    "plt.ylabel(\"Vertical distance [m]\", size = 12)\n",
    "plt.title(\"GPS distances from origin\", size = 12)\n",
    "plt.xlim(-xmax - 5, xmax + 5)\n",
    "plt.ylim(-ymin - 5, ymax + 5)\n",
    "plt.gca().set_aspect(1)\n",
    "plt.show()"
   ]
  },
  {
   "cell_type": "code",
   "execution_count": 70,
   "metadata": {},
   "outputs": [],
   "source": []
  },
  {
   "cell_type": "code",
   "execution_count": 51,
   "metadata": {},
   "outputs": [],
   "source": [
    "diff = abs(sup - inf)\n"
   ]
  }
 ],
 "metadata": {
  "kernelspec": {
   "display_name": "uhdas",
   "language": "python",
   "name": "python3"
  },
  "language_info": {
   "codemirror_mode": {
    "name": "ipython",
    "version": 3
   },
   "file_extension": ".py",
   "mimetype": "text/x-python",
   "name": "python",
   "nbconvert_exporter": "python",
   "pygments_lexer": "ipython3",
   "version": "3.11.7"
  }
 },
 "nbformat": 4,
 "nbformat_minor": 2
}
