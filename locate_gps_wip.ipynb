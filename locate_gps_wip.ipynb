{
 "cells": [
  {
   "cell_type": "code",
   "execution_count": 1,
   "metadata": {},
   "outputs": [],
   "source": [
    "# Libraries. \n",
    "import os\n",
    "import numpy as np\n",
    "import sys\n",
    "\n",
    "from datetime import datetime, timedelta\n",
    "from pathlib import Path\n",
    "from pycurrents.file.binfile_n import BinfileSet\n",
    "from pycurrents.data import navcalc\n",
    "from pycurrents.num import interp1 \n",
    "from pycurrents.adcp.uhdas_cfg_api import get_cfg, find_cfg_files"
   ]
  },
  {
   "cell_type": "code",
   "execution_count": 7,
   "metadata": {},
   "outputs": [],
   "source": [
    "# Arguments that will exist from argparse. \n",
    "sdate = \"2024-04-24 17:01:01\"\n",
    "edate = \"2024-04-24 17:50:01\"\n",
    "uhdas_dir = \"/home/jamie/cruise_data/thompson/TN430\"\n",
    "path_cruise = uhdas_dir"
   ]
  },
  {
   "cell_type": "code",
   "execution_count": 53,
   "metadata": {},
   "outputs": [],
   "source": [
    "# given a time range, subset the relevent data points. \n",
    "# also Binfileset has a step argument to decrease the number crunching.\n",
    "# 1. Re-write to include binfilesets step, and vectorized options (I loop through each file currently). \n",
    "# 2. Somehow include the time index below. \n",
    "# 3. filter out outliers in the navigation instruments. \n",
    "# 4. Only output the primary gps device table. "
   ]
  },
  {
   "cell_type": "markdown",
   "metadata": {},
   "source": []
  },
  {
   "cell_type": "code",
   "execution_count": 8,
   "metadata": {},
   "outputs": [],
   "source": [
    "# --------------------------------------------------------------------------------\n",
    "# functions and subroutines\n",
    "\n",
    "# generates list of rbin files and calls arrayrbins.\n",
    "def list_files(path, sensor, tag):\n",
    "    tag = \"*\" + tag + \"*.rbin\"\n",
    "    files = sorted(Path(path+sensor+\"/\").glob(tag))\n",
    "    return(files)\n",
    "    \n",
    "def read_nav(files, cruise_year, sdate = True, edate = True):\n",
    "    # read them matfiles. \n",
    "    tmp = BinfileSet(files, step = 50)\n",
    "    # get into numpy's world. \n",
    "    mat = np.array(tmp.array)\n",
    "    days = mat[:,2] \n",
    "\n",
    "    # convert to an unambgous datetime format. \n",
    "    cruise_year = datetime.strptime(cruise_year, '%Y').year\n",
    "    since_start = datetime(cruise_year, 1, 1)      # This is the \"days since\" part\n",
    "    tmp = list()\n",
    "    for i in range(0, days.shape[0]):\n",
    "        # from file_id.variables: origin 2024-01-01 00:00:00\n",
    "        delta = timedelta(days[i])     # Create a time delta object from the number of days\n",
    "        offset = since_start + delta    # Add the specified number of days to the start of the year\n",
    "        tmp.append(offset.strftime('%Y-%m-%d %H:%M:%S'))\n",
    "    time = np.array(tmp)\n",
    "    \n",
    "    # I could add a line here that inputs the new time vector as a column in an array. \n",
    "    # That would be very Pandas.\n",
    "\n",
    "    # cut the cruise data by the given string start and stop times. \n",
    "    if isinstance(sdate, str):\n",
    "        time_idx = np.where((time > sdate) & (time < edate))\n",
    "        mat = mat[time_idx[0],:]\n",
    "\n",
    "    return(mat)\n",
    "\n",
    "def carvect(primary, sensor, hdg):\n",
    "    # interpolate onto the primary pos sensor\n",
    "    lon = interp1(sensor[:,0], sensor[:,2], primary[:,0])\n",
    "    lat = interp1(sensor[:,0], sensor[:,3], primary[:,0])\n",
    "    # find the distance in u and v from the primary gps. \n",
    "    dlon = lon - primary[:,2]\n",
    "    dlat = lat - primary[:,3]\n",
    "    dxdy = navcalc.diffxy_from_difflonlat(dlon , dlat, primary[:,3])\n",
    "    dxdy = np.array(dxdy)\n",
    "    # interpolate dxdy onto heading device resolution. \n",
    "    dx = interp1(primary[:,0], dxdy[0,:], hdg[:,0])\n",
    "    dy = interp1(primary[:,0], dxdy[1,:], hdg[:,0])\n",
    "    dxdy = np.array([dx, dy])\n",
    "    return(dxdy)\n",
    "\n",
    "# find the location on the ship\n",
    "def shiplocal(vects, hdg):\n",
    "    # Rotates the distance vector by the heading. \n",
    "    # Done via a change of basis. \n",
    "    location = []\n",
    "    for i in range(1, len(hdg)):\n",
    "        tht = hdg[i,1]*(np.pi/180) # to radians\n",
    "        A = np.array([[np.cos(tht), np.sin(tht)],\n",
    "                [np.sin(tht)*-1, np.cos(tht)]]).T\n",
    "        location.append(np.matmul(A, vects[:,i]))\n",
    "    location = np.vstack(location)\n",
    "    return(location)\n",
    "\n",
    "# input is matrix of dimensions [x,2] where x is any number.\n",
    "# columns are the dx dy.   \n",
    "# just use the median instead. \n",
    "def xymean(mat):\n",
    "    ux = np.nanmedian(mat[:, 0])\n",
    "    uy = np.nanmedian(mat[:, 1])\n",
    "    cent = np.array([ux, uy])\n",
    "    return(cent)"
   ]
  },
  {
   "cell_type": "code",
   "execution_count": 9,
   "metadata": {},
   "outputs": [
    {
     "name": "stdout",
     "output_type": "stream",
     "text": [
      "No gps files in the comparitor rbins directory.\n"
     ]
    }
   ],
   "source": [
    "# loading data\n",
    "files = find_cfg_files(path_cruise + \"/raw/config/\")\n",
    "if files['sensor'] is None: \n",
    "    sys.exit(\"Error: No /raw/config directory found. Are you in a UHDAS cruise directory?\")\n",
    "proc_file = get_cfg(files['proc'])\n",
    "sens_file = get_cfg(files['sensor'])\n",
    "hdg_inst = proc_file[\"hdg_inst\"]\n",
    "pos_inst = proc_file[\"pos_inst\"]\n",
    "\n",
    "# remove the adcps, primary pos, and hdg instrument from the sensor list.\n",
    "gps = sens_file['sensor_keys']\n",
    "adcps = sens_file['adcp_keys']\n",
    "for i in adcps:\n",
    "    try:\n",
    "        gps.remove(i)\n",
    "    except ValueError:\n",
    "        pass\n",
    "gps.remove(hdg_inst)\n",
    "\n",
    "# There are three locations where I need to set the time range. \n",
    "\n",
    "# catinate gps rbin arrays, and list directories that do not have .gps.rbin files. \n",
    "badies = list()\n",
    "sensors = list()\n",
    "for i in gps:\n",
    "    if any(File.endswith(\".gps.rbin\") for File in os.listdir(path_cruise + '/rbin/' + i)):\n",
    "        files = list_files(path = path_cruise + '/rbin/', sensor = i, tag = 'gps')\n",
    "        tmp = read_nav(files, cruise_year = '2024', sdate = sdate, edate = edate)\n",
    "        sensors.append(tmp)\n",
    "    else:\n",
    "        badies.append(i)\n",
    "        print(\"No gps files in the \" + i + \" rbins directory.\")\n",
    "\n",
    "# remove gps devises without gps.rbin files. \n",
    "for i in badies:\n",
    "    gps.remove(i) \n",
    "\n",
    "# reading in the gps coordinates for the position device. \n",
    "files = list_files(path = path_cruise + '/rbin/', sensor = pos_inst, tag = 'gps')\n",
    "prime = read_nav(files, cruise_year = '2024', sdate = sdate, edate = edate)\n",
    "\n",
    "# reading in the gps coordinates for heading device. \n",
    "files = list_files(path = path_cruise + '/rbin/', sensor = hdg_inst, tag = 'hdg')\n",
    "head  = read_nav(files, cruise_year='2024', sdate = sdate, edate = edate)"
   ]
  },
  {
   "cell_type": "code",
   "execution_count": 10,
   "metadata": {},
   "outputs": [],
   "source": [
    "# calculations\n",
    "gps_locations = list()\n",
    "for device in sensors:\n",
    "    tmp = carvect(primary = prime, sensor = device, hdg = head)\n",
    "    pos = shiplocal(vects = tmp, hdg = head)\n",
    "    gps_locations.append(xymean(mat = pos))\n",
    "gps_locations = np.array(gps_locations)"
   ]
  },
  {
   "cell_type": "code",
   "execution_count": 11,
   "metadata": {},
   "outputs": [
    {
     "name": "stdout",
     "output_type": "stream",
     "text": [
      "GPS locations relative to the primary gps device.\n",
      "    x |      y |           gps name\n",
      "-----------------------------------\n",
      "   hdg |    hdg |              gyro1\n",
      "  0.22 | -15.01 |           gps_cnav\n",
      "-46.42 | -54.16 |            seapath\n",
      "  0.00 |   0.00 |             posmv5\n",
      "  0.00 |   0.00 |              wh300\n",
      " -3.00 |   7.00 |               os75\n",
      "-----------------------------------\n"
     ]
    }
   ],
   "source": [
    "# print a table of the gps lacations.\n",
    "print(\"GPS locations relative to the primary gps device.\")\n",
    "print(\"    x |      y |           gps name\")\n",
    "print(\"-----------------------------------\")\n",
    "print(f\"   hdg |    hdg | {hdg_inst:>18s}\") \n",
    "for ((x, y), name) in zip(gps_locations, gps):\n",
    "    print(f\"{x:>6.2f} | {y:6.2f} | {name:>18s}\")\n",
    "for sonar in adcps:\n",
    "    x = proc_file['xducer_dx'][sonar]\n",
    "    y = proc_file['xducer_dy'][sonar]\n",
    "    print(f\"{x:>6.2f} | {y:6.2f} | {sonar:>18s}\")\n",
    "print(\"-----------------------------------\")"
   ]
  }
 ],
 "metadata": {
  "kernelspec": {
   "display_name": "uhdas",
   "language": "python",
   "name": "python3"
  },
  "language_info": {
   "codemirror_mode": {
    "name": "ipython",
    "version": 3
   },
   "file_extension": ".py",
   "mimetype": "text/x-python",
   "name": "python",
   "nbconvert_exporter": "python",
   "pygments_lexer": "ipython3",
   "version": "3.11.7"
  }
 },
 "nbformat": 4,
 "nbformat_minor": 2
}
