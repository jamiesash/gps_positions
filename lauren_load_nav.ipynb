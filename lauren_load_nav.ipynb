{
 "cells": [
  {
   "cell_type": "code",
   "execution_count": 5,
   "metadata": {},
   "outputs": [],
   "source": [
    "import os\n",
    "import toml\n",
    "import numpy as np\n",
    "import matplotlib.pyplot as plt\n",
    "from pathlib import Path\n",
    "\n",
    "from pycurrents.file.binfile_n import BinfileSet\n",
    "from pycurrents.data import navcalc\n",
    "from pycurrents.num import interp1 \n",
    "from pycurrents.adcp.uhdas_cfg_api import get_cfg, find_cfg_files"
   ]
  },
  {
   "cell_type": "code",
   "execution_count": 6,
   "metadata": {},
   "outputs": [],
   "source": [
    "# give a list of rbin files aoutput catinated array.\n",
    "def arrayrbins(files):\n",
    "    mat = list()\n",
    "    for i in files:\n",
    "        tmp = BinfileSet(str(i))\n",
    "        mat.append(tmp.array)\n",
    "    mat = np.vstack(mat)\n",
    "    return(mat) \n",
    "\n",
    "# generates list of rbin files and calls arrayrbins.\n",
    "def readrbins(pth, sensor, tag):\n",
    "    tag = \"*\" + tag + \"*.rbin\"\n",
    "    files = sorted(Path(pth+sensor+\"/\").glob(tag))\n",
    "    mat = arrayrbins(files)\n",
    "\n",
    "    #cols = BinfileSet(str(files[0])).columns\n",
    "    mat = np.array(mat) #, dtype=cols)\n",
    "    return(mat)\n"
   ]
  },
  {
   "cell_type": "code",
   "execution_count": 9,
   "metadata": {},
   "outputs": [],
   "source": [
    "path_cruise = \"/home/jamie/cruise_data/thompson/TN430\""
   ]
  },
  {
   "cell_type": "code",
   "execution_count": 13,
   "metadata": {},
   "outputs": [],
   "source": [
    "pos_inst = \"nickname of pos instrument\"\n",
    "seapath = readrbins(pth = path_cruise + '/rbin/', sensor = pos_inst, tag = 'gps')"
   ]
  },
  {
   "cell_type": "code",
   "execution_count": null,
   "metadata": {},
   "outputs": [],
   "source": [
    "pos_inst = \"nickname of pos instrument\"\n",
    "posmv = readrbins(pth = path_cruise + '/rbin/', sensor = pos_inst, tag = 'gps')"
   ]
  }
 ],
 "metadata": {
  "kernelspec": {
   "display_name": "uhdas",
   "language": "python",
   "name": "python3"
  },
  "language_info": {
   "codemirror_mode": {
    "name": "ipython",
    "version": 3
   },
   "file_extension": ".py",
   "mimetype": "text/x-python",
   "name": "python",
   "nbconvert_exporter": "python",
   "pygments_lexer": "ipython3",
   "version": "3.11.7"
  }
 },
 "nbformat": 4,
 "nbformat_minor": 2
}
